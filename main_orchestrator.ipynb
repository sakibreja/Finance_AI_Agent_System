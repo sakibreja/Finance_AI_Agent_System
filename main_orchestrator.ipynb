{
 "cells": [
  {
   "cell_type": "code",
   "execution_count": null,
   "id": "9ed80cef",
   "metadata": {},
   "outputs": [],
   "source": [
    "from components.loan_verifier import verify_loan_application\n",
    "from components.doc_router import route_document\n",
    "from components.ocr_api_module import extract_text_from_file\n",
    "from llm.llm_utils import init_llm"
   ]
  },
  {
   "cell_type": "code",
   "execution_count": null,
   "id": "0cc1229b",
   "metadata": {},
   "outputs": [],
   "source": [
    "# Initialize LLM\n",
    "llm = init_llm()"
   ]
  },
  {
   "cell_type": "code",
   "execution_count": null,
   "id": "aade48f0",
   "metadata": {},
   "outputs": [],
   "source": [
    "# Example: Process a sample document\n",
    "doc_path = '/content/finance_ai_agents/data/sample_inputs/sample_loan_app.pdf'"
   ]
  },
  {
   "cell_type": "code",
   "execution_count": null,
   "id": "7df950e2",
   "metadata": {},
   "outputs": [],
   "source": [
    "# Step 1: OCR/Extract content\n",
    "content = extract_text_from_file(doc_path)"
   ]
  },
  {
   "cell_type": "code",
   "execution_count": null,
   "id": "14654367",
   "metadata": {},
   "outputs": [],
   "source": [
    "# Step 2: Route Document\n",
    "doc_type = route_document(content, llm)\n",
    "print(f\"Document Type Detected: {doc_type}\")"
   ]
  },
  {
   "cell_type": "code",
   "execution_count": null,
   "id": "32255299",
   "metadata": {},
   "outputs": [],
   "source": [
    "# Step 3: Run corresponding agent\n",
    "if doc_type == \"loan_application\":\n",
    "    result = verify_loan_application(content, llm)\n",
    "    print(\"Loan Verification Result:\", result)"
   ]
  },
  {
   "cell_type": "code",
   "execution_count": null,
   "id": "cae0b747",
   "metadata": {},
   "outputs": [],
   "source": [
    "# You can expand this with other conditions: tax filing, payroll, etc.\n"
   ]
  },
  {
   "cell_type": "code",
   "execution_count": null,
   "id": "e7a84207",
   "metadata": {},
   "outputs": [],
   "source": [
    "# Sample rerun after routing\n",
    "\n",
    "if doc_type == \"loan_application\":\n",
    "    result = verify_loan_application(content, llm)\n",
    "\n",
    "    print(\"Rule-based Validation:\")\n",
    "    for key, val in result[\"rule_check\"].items():\n",
    "        print(f\"  {key}: {val}\")\n",
    "    \n",
    "    print(\"\\nLLM-based Review:\")\n",
    "    print(result[\"llm_review\"])\n"
   ]
  },
  {
   "cell_type": "code",
   "execution_count": null,
   "id": "2acd8246",
   "metadata": {},
   "outputs": [],
   "source": [
    "# Add to routing logic\n",
    "from components.payroll_checker import reconcile_payroll\n",
    "\n",
    "elif doc_type == \"payroll_statement\":\n",
    "    file_path = \"/content/finance_ai_agents/data/sample_inputs/sample_payroll.csv\"\n",
    "    result = reconcile_payroll(file_path, llm)\n",
    "\n",
    "    for entry in result:\n",
    "        print(f\"\\nEmployee {entry['Employee ID']}:\")\n",
    "        print(f\"  Net Pay Check: {entry['Net Pay Check']}\")\n",
    "        print(f\"  Tax Compliance: {entry['Tax Compliance']}\")\n",
    "        print(\"  LLM Review:\")\n",
    "        print(entry[\"LLM Review\"])\n"
   ]
  },
  {
   "cell_type": "code",
   "execution_count": null,
   "id": "2cd125f8",
   "metadata": {},
   "outputs": [],
   "source": [
    "from components.tax_filer import tax_filing_agent\n",
    "\n",
    "elif doc_type == \"tax_document\":\n",
    "    result = tax_filing_agent(content, llm)\n",
    "\n",
    "    print(\"\\nExtracted Fields:\")\n",
    "    for k, v in result[\"Extracted Fields\"].items():\n",
    "        print(f\"  {k}: {v}\")\n",
    "\n",
    "    print(f\"\\nTotal Income: ₹{result['Total Income']}\")\n",
    "    print(f\"Total Deductions: ₹{result['Total Deductions']}\")\n",
    "    print(f\"Taxable Income: ₹{result['Taxable Income']}\")\n",
    "\n",
    "    print(\"\\nLLM Filing Advice:\")\n",
    "    print(result[\"LLM Filing Advice\"])\n"
   ]
  },
  {
   "cell_type": "code",
   "execution_count": null,
   "id": "d5c7a160",
   "metadata": {},
   "outputs": [],
   "source": [
    "from components.fund_valuator import analyze_mutual_fund_portfolio\n",
    "\n",
    "elif doc_type == \"mutual_fund_portfolio\":\n",
    "    file_path = \"/content/finance_ai_agents/data/sample_inputs/sample_mf.csv\"\n",
    "    result = analyze_mutual_fund_portfolio(file_path, llm)\n",
    "\n",
    "    print(\"\\nPortfolio Summary:\")\n",
    "    print(f\"  Invested: ₹{result['Total Invested']:.0f}\")\n",
    "    print(f\"  Current Value: ₹{result['Current Value']:.0f}\")\n",
    "\n",
    "    print(\"\\nFund Breakdown:\")\n",
    "    for fund in result[\"Fund Analysis\"]:\n",
    "        print(f\"  {fund['Fund Name']}: Value ₹{fund['Current Value']:.0f}, CAGR: {fund['CAGR']}%, Held: {fund['Years Held']} yrs\")\n",
    "\n",
    "    print(\"\\nLLM Summary:\")\n",
    "    print(result[\"LLM Summary\"])\n"
   ]
  },
  {
   "cell_type": "code",
   "execution_count": null,
   "id": "d7e5be2c",
   "metadata": {},
   "outputs": [],
   "source": [
    "from components.document_router import route_document\n",
    "\n",
    "# Sample input document (could be text extracted via OCR)\n",
    "sample_text = \"\"\"\n",
    "This is to certify that Form 16 is issued for the assessment year 2024-25 for income tax purposes.\n",
    "\"\"\"\n",
    "\n",
    "result = route_document(sample_text, llm)\n",
    "print(\"Routing Decision:\")\n",
    "print(f\"  Method Used: {result['method']}\")\n",
    "print(f\"  Routed to: {result['document_type']}\")\n"
   ]
  }
 ],
 "metadata": {
  "kernelspec": {
   "display_name": "Python 3",
   "language": "python",
   "name": "python3"
  },
  "language_info": {
   "name": "python",
   "version": "3.9.13"
  }
 },
 "nbformat": 4,
 "nbformat_minor": 5
}
